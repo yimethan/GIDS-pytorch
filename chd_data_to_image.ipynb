{
 "cells": [
  {
   "cell_type": "markdown",
   "id": "06c8b84b",
   "metadata": {},
   "source": [
    "# CHD dataset CAN ID to image"
   ]
  },
  {
   "cell_type": "code",
   "execution_count": 1,
   "id": "f5e6c934",
   "metadata": {},
   "outputs": [],
   "source": [
    "import numpy as np\n",
    "import os\n",
    "import pandas as pd\n",
    "from PIL import Image"
   ]
  },
  {
   "cell_type": "code",
   "execution_count": 2,
   "id": "61f4003c",
   "metadata": {},
   "outputs": [],
   "source": [
    "save_path = '../dataset/CHD/id_image'\n",
    "\n",
    "if not os.path.exists(save_path):\n",
    "    os.makedirs(save_path)"
   ]
  },
  {
   "cell_type": "code",
   "execution_count": 3,
   "id": "2d90d4bb",
   "metadata": {},
   "outputs": [],
   "source": [
    "data_root = '../dataset/CHD/'"
   ]
  },
  {
   "cell_type": "code",
   "execution_count": 4,
   "id": "bab8d5f5",
   "metadata": {},
   "outputs": [],
   "source": [
    "def one_hot_vector(c):\n",
    "    \n",
    "    # 1  2  3  4  5  6  7  8  9  0  a  b  c  d  e  f\n",
    "    \n",
    "    ohv = np.array([0, 0, 0, 0, 0, 0, 0, 0, 0, 0, 0, 0, 0, 0, 0, 0])\n",
    "    \n",
    "    if c == '1':\n",
    "        ohv[0] = 255\n",
    "    elif c == '2':\n",
    "        ohv[1] = 255\n",
    "    elif c == '3':\n",
    "        ohv[2] = 255\n",
    "    elif c == '4':\n",
    "        ohv[3] = 255\n",
    "    elif c == '5':\n",
    "        ohv[4] = 255\n",
    "    elif c == '6':\n",
    "        ohv[5] = 255\n",
    "    elif c == '7':\n",
    "        ohv[6] = 255\n",
    "    elif c == '8':\n",
    "        ohv[7] = 255\n",
    "    elif c == '9':\n",
    "        ohv[8] = 255\n",
    "    elif c == '0':\n",
    "        ohv[9] = 255\n",
    "    elif c == 'a':\n",
    "        ohv[10] = 255\n",
    "    elif c == 'b':\n",
    "        ohv[11] = 255\n",
    "    elif c == 'c':\n",
    "        ohv[12] = 255\n",
    "    elif c == 'd':\n",
    "        ohv[13] = 255\n",
    "    elif c == 'e':\n",
    "        ohv[14] = 255\n",
    "    elif c == 'f':\n",
    "        ohv[15] = 255\n",
    "        \n",
    "    return ohv"
   ]
  },
  {
   "cell_type": "code",
   "execution_count": 5,
   "id": "b3ecd58a",
   "metadata": {},
   "outputs": [],
   "source": [
    "def data_to_one_hot_vector(can):\n",
    "\n",
    "    c1 = one_hot_vector(can[0])\n",
    "    c2 = one_hot_vector(can[1])\n",
    "    c3 = one_hot_vector(can[2])\n",
    "\n",
    "    image_can = np.concatenate((c1,c2,c3), axis=0)\n",
    "    \n",
    "    return image_can"
   ]
  },
  {
   "cell_type": "code",
   "execution_count": 6,
   "id": "aacbbd03",
   "metadata": {},
   "outputs": [],
   "source": [
    "def make_can_image(data, flag, data_kind='normal'):\n",
    "    \n",
    "    if not os.path.exists(save_path + '/' + data_kind):\n",
    "        os.makedirs(save_path + '/' + data_kind)\n",
    "    \n",
    "    row_size = 64\n",
    "    col_size = 48\n",
    "\n",
    "    # 16 x ( 3 x 64 )\n",
    "\n",
    "    img_num = 0\n",
    "    \n",
    "    for i, f in zip(range(0, len(data), row_size), flag):\n",
    "        can_image = np.zeros((1, col_size))\n",
    "        loc = data.iloc[i : i + row_size]\n",
    "\n",
    "        for j in range(0, len(loc)):\n",
    "            new_vec = data_to_one_hot_vector(loc.iloc[j])\n",
    "            can_image = np.vstack([can_image, new_vec])\n",
    "        can_image = np.delete(can_image, (0), axis=0)\n",
    "\n",
    "#         can_image = can_image.astype(int)\n",
    "        can_image = Image.fromarray(can_image.astype(np.uint8))\n",
    "\n",
    "        can_image.save(save_path + '/{}/{}_{}.png'.format(data_kind, f, img_num))\n",
    "        img_num += 1\n",
    "\n",
    "        if img_num % 1000 == 0:\n",
    "\n",
    "            print('{}th data in process...'.format(img_num))\n",
    "\n",
    "    print('Done converting to {} images'.format(img_num))"
   ]
  },
  {
   "cell_type": "code",
   "execution_count": 7,
   "id": "d0f4c1d8",
   "metadata": {},
   "outputs": [],
   "source": [
    "def check_flags(df):\n",
    "    \n",
    "    res = []\n",
    "    \n",
    "    for i in range(0, len(df), 64):\n",
    "        \n",
    "        check_range = df.iloc[i:i+64]\n",
    "        \n",
    "        # 'T' if abnormal, 'R' if normal\n",
    "        if 'T' in check_range.values:\n",
    "            res.append('abnormal')\n",
    "        else:\n",
    "            res.append('normal')\n",
    "        \n",
    "    return res"
   ]
  },
  {
   "cell_type": "markdown",
   "id": "34ae4924",
   "metadata": {},
   "source": [
    "## Normal data"
   ]
  },
  {
   "cell_type": "code",
   "execution_count": 8,
   "id": "16744e07",
   "metadata": {},
   "outputs": [],
   "source": [
    "col_names = ['Timestamp', 'blank', 'ID', 'zero', 'DLC', 'Data']"
   ]
  },
  {
   "cell_type": "code",
   "execution_count": 9,
   "id": "b0062bea",
   "metadata": {},
   "outputs": [],
   "source": [
    "normal_data = pd.read_csv(data_root + 'normal_run_data.txt',\n",
    "    sep='    ', engine='python', encoding='cp949', header=None,names=col_names)"
   ]
  },
  {
   "cell_type": "code",
   "execution_count": 10,
   "id": "a1e26bd6",
   "metadata": {},
   "outputs": [],
   "source": [
    "df = normal_data['ID']"
   ]
  },
  {
   "cell_type": "code",
   "execution_count": 11,
   "id": "19a0a0ae",
   "metadata": {},
   "outputs": [],
   "source": [
    "normal_check = ['normal'] * (len(df) + 1)"
   ]
  },
  {
   "cell_type": "code",
   "execution_count": 12,
   "id": "f2e3dc04",
   "metadata": {},
   "outputs": [],
   "source": [
    "for i in range(len(df)):  # extract needed part\n",
    "    df.at[i] = df.at[i][5:8]"
   ]
  },
  {
   "cell_type": "code",
   "execution_count": 13,
   "id": "0faf5e82",
   "metadata": {},
   "outputs": [
    {
     "name": "stdout",
     "output_type": "stream",
     "text": [
      "1000th data in process...\n",
      "2000th data in process...\n",
      "3000th data in process...\n",
      "4000th data in process...\n",
      "5000th data in process...\n",
      "6000th data in process...\n",
      "7000th data in process...\n",
      "8000th data in process...\n",
      "9000th data in process...\n",
      "10000th data in process...\n",
      "11000th data in process...\n",
      "12000th data in process...\n",
      "13000th data in process...\n",
      "14000th data in process...\n",
      "15000th data in process...\n",
      "Done converting to 15452 images\n"
     ]
    }
   ],
   "source": [
    "make_can_image(df, normal_check)"
   ]
  },
  {
   "cell_type": "markdown",
   "id": "3863d2b4",
   "metadata": {},
   "source": [
    "## DoS data"
   ]
  },
  {
   "cell_type": "code",
   "execution_count": 14,
   "id": "90e2b26e",
   "metadata": {},
   "outputs": [],
   "source": [
    "dos_data = pd.read_csv(data_root + '/preprocessed/DoS_dataset.csv')"
   ]
  },
  {
   "cell_type": "code",
   "execution_count": 15,
   "id": "4a2bd055",
   "metadata": {},
   "outputs": [],
   "source": [
    "df = dos_data['Flag']"
   ]
  },
  {
   "cell_type": "code",
   "execution_count": 16,
   "id": "bc56aabc",
   "metadata": {},
   "outputs": [],
   "source": [
    "dos_check = check_flags(df)"
   ]
  },
  {
   "cell_type": "code",
   "execution_count": 17,
   "id": "3ab3ab7d",
   "metadata": {},
   "outputs": [],
   "source": [
    "df = dos_data['ID']"
   ]
  },
  {
   "cell_type": "code",
   "execution_count": 18,
   "id": "2d6cf74c",
   "metadata": {},
   "outputs": [
    {
     "data": {
      "text/plain": [
       "0          0316\n",
       "1          018f\n",
       "2          0260\n",
       "3          02a0\n",
       "4          0329\n",
       "           ... \n",
       "3665766    05f0\n",
       "3665767    05f0\n",
       "3665768    05f0\n",
       "3665769    05f0\n",
       "3665770    05f0\n",
       "Name: ID, Length: 3665771, dtype: object"
      ]
     },
     "execution_count": 18,
     "metadata": {},
     "output_type": "execute_result"
    }
   ],
   "source": [
    "df"
   ]
  },
  {
   "cell_type": "code",
   "execution_count": 19,
   "id": "fab1c667",
   "metadata": {},
   "outputs": [],
   "source": [
    "for i in range(len(df)):\n",
    "    df.at[i] = df.at[i][1:]"
   ]
  },
  {
   "cell_type": "code",
   "execution_count": 20,
   "id": "3817f8a6",
   "metadata": {},
   "outputs": [
    {
     "data": {
      "text/plain": [
       "0          316\n",
       "1          18f\n",
       "2          260\n",
       "3          2a0\n",
       "4          329\n",
       "          ... \n",
       "3665766    5f0\n",
       "3665767    5f0\n",
       "3665768    5f0\n",
       "3665769    5f0\n",
       "3665770    5f0\n",
       "Name: ID, Length: 3665771, dtype: object"
      ]
     },
     "execution_count": 20,
     "metadata": {},
     "output_type": "execute_result"
    }
   ],
   "source": [
    "df"
   ]
  },
  {
   "cell_type": "code",
   "execution_count": 21,
   "id": "b4353077",
   "metadata": {},
   "outputs": [
    {
     "name": "stdout",
     "output_type": "stream",
     "text": [
      "1000th data in process...\n",
      "2000th data in process...\n",
      "3000th data in process...\n",
      "4000th data in process...\n",
      "5000th data in process...\n",
      "6000th data in process...\n",
      "7000th data in process...\n",
      "8000th data in process...\n",
      "9000th data in process...\n",
      "10000th data in process...\n",
      "11000th data in process...\n",
      "12000th data in process...\n",
      "13000th data in process...\n",
      "14000th data in process...\n",
      "15000th data in process...\n",
      "16000th data in process...\n",
      "17000th data in process...\n",
      "18000th data in process...\n",
      "19000th data in process...\n",
      "20000th data in process...\n",
      "21000th data in process...\n",
      "22000th data in process...\n",
      "23000th data in process...\n",
      "24000th data in process...\n",
      "25000th data in process...\n",
      "26000th data in process...\n",
      "27000th data in process...\n",
      "28000th data in process...\n",
      "29000th data in process...\n",
      "30000th data in process...\n",
      "31000th data in process...\n",
      "32000th data in process...\n",
      "33000th data in process...\n",
      "34000th data in process...\n",
      "35000th data in process...\n",
      "36000th data in process...\n",
      "37000th data in process...\n",
      "38000th data in process...\n",
      "39000th data in process...\n",
      "40000th data in process...\n",
      "41000th data in process...\n",
      "42000th data in process...\n",
      "43000th data in process...\n",
      "44000th data in process...\n",
      "45000th data in process...\n",
      "46000th data in process...\n",
      "47000th data in process...\n",
      "48000th data in process...\n",
      "49000th data in process...\n",
      "50000th data in process...\n",
      "51000th data in process...\n",
      "52000th data in process...\n",
      "53000th data in process...\n",
      "54000th data in process...\n",
      "55000th data in process...\n",
      "56000th data in process...\n",
      "57000th data in process...\n",
      "Done converting to 57278 images\n"
     ]
    }
   ],
   "source": [
    "make_can_image(df, dos_check, 'dos')"
   ]
  },
  {
   "cell_type": "markdown",
   "id": "88060804",
   "metadata": {},
   "source": [
    "## Fuzzy data"
   ]
  },
  {
   "cell_type": "code",
   "execution_count": null,
   "id": "48e1ced0",
   "metadata": {},
   "outputs": [],
   "source": [
    "fuzzy_data = pd.read_csv(data_root + '/preprocessed/Fuzzy_dataset.csv')"
   ]
  },
  {
   "cell_type": "code",
   "execution_count": 23,
   "id": "8f5bebbd",
   "metadata": {},
   "outputs": [],
   "source": [
    "df = fuzzy_data['Flag']"
   ]
  },
  {
   "cell_type": "code",
   "execution_count": 24,
   "id": "7d7a9732",
   "metadata": {},
   "outputs": [],
   "source": [
    "fuzzy_check = check_flags(df)"
   ]
  },
  {
   "cell_type": "code",
   "execution_count": 25,
   "id": "144a13dd",
   "metadata": {},
   "outputs": [],
   "source": [
    "df = fuzzy_data['ID']"
   ]
  },
  {
   "cell_type": "code",
   "execution_count": 26,
   "id": "e0b672ff",
   "metadata": {},
   "outputs": [],
   "source": [
    "for i in range(len(df)):\n",
    "    df.at[i] = df.at[i][1:]"
   ]
  },
  {
   "cell_type": "code",
   "execution_count": 27,
   "id": "935f1498",
   "metadata": {},
   "outputs": [
    {
     "name": "stdout",
     "output_type": "stream",
     "text": [
      "1000th data in process...\n",
      "2000th data in process...\n",
      "3000th data in process...\n",
      "4000th data in process...\n",
      "5000th data in process...\n",
      "6000th data in process...\n",
      "7000th data in process...\n",
      "8000th data in process...\n",
      "9000th data in process...\n",
      "10000th data in process...\n",
      "11000th data in process...\n",
      "12000th data in process...\n",
      "13000th data in process...\n",
      "14000th data in process...\n",
      "15000th data in process...\n",
      "16000th data in process...\n",
      "17000th data in process...\n",
      "18000th data in process...\n",
      "19000th data in process...\n",
      "20000th data in process...\n",
      "21000th data in process...\n",
      "22000th data in process...\n",
      "23000th data in process...\n",
      "24000th data in process...\n",
      "25000th data in process...\n",
      "26000th data in process...\n",
      "27000th data in process...\n",
      "28000th data in process...\n",
      "29000th data in process...\n",
      "30000th data in process...\n",
      "31000th data in process...\n",
      "32000th data in process...\n",
      "33000th data in process...\n",
      "34000th data in process...\n",
      "35000th data in process...\n",
      "36000th data in process...\n",
      "37000th data in process...\n",
      "38000th data in process...\n",
      "39000th data in process...\n",
      "40000th data in process...\n",
      "41000th data in process...\n",
      "42000th data in process...\n",
      "43000th data in process...\n",
      "44000th data in process...\n",
      "45000th data in process...\n",
      "46000th data in process...\n",
      "47000th data in process...\n",
      "48000th data in process...\n",
      "49000th data in process...\n",
      "50000th data in process...\n",
      "51000th data in process...\n",
      "52000th data in process...\n",
      "53000th data in process...\n",
      "54000th data in process...\n",
      "55000th data in process...\n",
      "56000th data in process...\n",
      "57000th data in process...\n",
      "58000th data in process...\n",
      "59000th data in process...\n",
      "Done converting to 59983 images\n"
     ]
    }
   ],
   "source": [
    "make_can_image(df, fuzzy_check, 'fuzzy')"
   ]
  },
  {
   "cell_type": "markdown",
   "id": "cd1319e2",
   "metadata": {},
   "source": [
    "## Gear data"
   ]
  },
  {
   "cell_type": "code",
   "execution_count": 28,
   "id": "5b2559d9",
   "metadata": {},
   "outputs": [],
   "source": [
    "gear_data = pd.read_csv(data_root + '/preprocessed/gear_dataset.csv')"
   ]
  },
  {
   "cell_type": "code",
   "execution_count": 29,
   "id": "cd23765d",
   "metadata": {},
   "outputs": [],
   "source": [
    "df = gear_data['Flag']"
   ]
  },
  {
   "cell_type": "code",
   "execution_count": 30,
   "id": "c6fa3220",
   "metadata": {},
   "outputs": [],
   "source": [
    "gear_check = check_flags(df)"
   ]
  },
  {
   "cell_type": "code",
   "execution_count": 31,
   "id": "e15f945c",
   "metadata": {},
   "outputs": [],
   "source": [
    "df = gear_data['ID']"
   ]
  },
  {
   "cell_type": "code",
   "execution_count": 32,
   "id": "cf99ee47",
   "metadata": {},
   "outputs": [],
   "source": [
    "for i in range(len(df)):\n",
    "    df.at[i] = df.at[i][1:]"
   ]
  },
  {
   "cell_type": "code",
   "execution_count": 33,
   "id": "ccd107d0",
   "metadata": {},
   "outputs": [
    {
     "name": "stdout",
     "output_type": "stream",
     "text": [
      "1000th data in process...\n",
      "2000th data in process...\n",
      "3000th data in process...\n",
      "4000th data in process...\n",
      "5000th data in process...\n",
      "6000th data in process...\n",
      "7000th data in process...\n",
      "8000th data in process...\n",
      "9000th data in process...\n",
      "10000th data in process...\n",
      "11000th data in process...\n",
      "12000th data in process...\n",
      "13000th data in process...\n",
      "14000th data in process...\n",
      "15000th data in process...\n",
      "16000th data in process...\n",
      "17000th data in process...\n",
      "18000th data in process...\n",
      "19000th data in process...\n",
      "20000th data in process...\n",
      "21000th data in process...\n",
      "22000th data in process...\n",
      "23000th data in process...\n",
      "24000th data in process...\n",
      "25000th data in process...\n",
      "26000th data in process...\n",
      "27000th data in process...\n",
      "28000th data in process...\n",
      "29000th data in process...\n",
      "30000th data in process...\n",
      "31000th data in process...\n",
      "32000th data in process...\n",
      "33000th data in process...\n",
      "34000th data in process...\n",
      "35000th data in process...\n",
      "36000th data in process...\n",
      "37000th data in process...\n",
      "38000th data in process...\n",
      "39000th data in process...\n",
      "40000th data in process...\n",
      "41000th data in process...\n",
      "42000th data in process...\n",
      "43000th data in process...\n",
      "44000th data in process...\n",
      "45000th data in process...\n",
      "46000th data in process...\n",
      "47000th data in process...\n",
      "48000th data in process...\n",
      "49000th data in process...\n",
      "50000th data in process...\n",
      "51000th data in process...\n",
      "52000th data in process...\n",
      "53000th data in process...\n",
      "54000th data in process...\n",
      "55000th data in process...\n",
      "56000th data in process...\n",
      "57000th data in process...\n",
      "58000th data in process...\n",
      "59000th data in process...\n",
      "60000th data in process...\n",
      "61000th data in process...\n",
      "62000th data in process...\n",
      "63000th data in process...\n",
      "64000th data in process...\n",
      "65000th data in process...\n",
      "66000th data in process...\n",
      "67000th data in process...\n",
      "68000th data in process...\n",
      "69000th data in process...\n",
      "Done converting to 69425 images\n"
     ]
    }
   ],
   "source": [
    "make_can_image(df, gear_check, 'gear')"
   ]
  },
  {
   "cell_type": "markdown",
   "id": "db9ddfa7",
   "metadata": {},
   "source": [
    "## RPM data"
   ]
  },
  {
   "cell_type": "code",
   "execution_count": null,
   "id": "9c58cf1f",
   "metadata": {},
   "outputs": [],
   "source": [
    "rpm_data = pd.read_csv(data_root + '/preprocessed/RPM_dataset.csv')"
   ]
  },
  {
   "cell_type": "code",
   "execution_count": 35,
   "id": "f2d31018",
   "metadata": {},
   "outputs": [],
   "source": [
    "df = rpm_data['Flag']"
   ]
  },
  {
   "cell_type": "code",
   "execution_count": 36,
   "id": "431d5561",
   "metadata": {},
   "outputs": [],
   "source": [
    "rpm_check = check_flags(df)"
   ]
  },
  {
   "cell_type": "code",
   "execution_count": 37,
   "id": "1601c9b1",
   "metadata": {},
   "outputs": [],
   "source": [
    "df = rpm_data['ID']"
   ]
  },
  {
   "cell_type": "code",
   "execution_count": 38,
   "id": "33cb4233",
   "metadata": {},
   "outputs": [],
   "source": [
    "for i in range(len(df)):\n",
    "    df.at[i] = df.at[i][1:]"
   ]
  },
  {
   "cell_type": "code",
   "execution_count": 39,
   "id": "4ba3ee77",
   "metadata": {},
   "outputs": [
    {
     "name": "stdout",
     "output_type": "stream",
     "text": [
      "1000th data in process...\n",
      "2000th data in process...\n",
      "3000th data in process...\n",
      "4000th data in process...\n",
      "5000th data in process...\n",
      "6000th data in process...\n",
      "7000th data in process...\n",
      "8000th data in process...\n",
      "9000th data in process...\n",
      "10000th data in process...\n",
      "11000th data in process...\n",
      "12000th data in process...\n",
      "13000th data in process...\n",
      "14000th data in process...\n",
      "15000th data in process...\n",
      "16000th data in process...\n",
      "17000th data in process...\n",
      "18000th data in process...\n",
      "19000th data in process...\n",
      "20000th data in process...\n",
      "21000th data in process...\n",
      "22000th data in process...\n",
      "23000th data in process...\n",
      "24000th data in process...\n",
      "25000th data in process...\n",
      "26000th data in process...\n",
      "27000th data in process...\n",
      "28000th data in process...\n",
      "29000th data in process...\n",
      "30000th data in process...\n",
      "31000th data in process...\n",
      "32000th data in process...\n",
      "33000th data in process...\n",
      "34000th data in process...\n",
      "35000th data in process...\n",
      "36000th data in process...\n",
      "37000th data in process...\n",
      "38000th data in process...\n",
      "39000th data in process...\n",
      "40000th data in process...\n",
      "41000th data in process...\n",
      "42000th data in process...\n",
      "43000th data in process...\n",
      "44000th data in process...\n",
      "45000th data in process...\n",
      "46000th data in process...\n",
      "47000th data in process...\n",
      "48000th data in process...\n",
      "49000th data in process...\n",
      "50000th data in process...\n",
      "51000th data in process...\n",
      "52000th data in process...\n",
      "53000th data in process...\n",
      "54000th data in process...\n",
      "55000th data in process...\n",
      "56000th data in process...\n",
      "57000th data in process...\n",
      "58000th data in process...\n",
      "59000th data in process...\n",
      "60000th data in process...\n",
      "61000th data in process...\n",
      "62000th data in process...\n",
      "63000th data in process...\n",
      "64000th data in process...\n",
      "65000th data in process...\n",
      "66000th data in process...\n",
      "67000th data in process...\n",
      "68000th data in process...\n",
      "69000th data in process...\n",
      "70000th data in process...\n",
      "71000th data in process...\n",
      "72000th data in process...\n",
      "Done converting to 72215 images\n"
     ]
    }
   ],
   "source": [
    "make_can_image(df, rpm_check, 'rpm')"
   ]
  },
  {
   "cell_type": "code",
   "execution_count": null,
   "id": "548dc850",
   "metadata": {},
   "outputs": [],
   "source": []
  }
 ],
 "metadata": {
  "kernelspec": {
   "display_name": "Python 3 (ipykernel)",
   "language": "python",
   "name": "python3"
  },
  "language_info": {
   "codemirror_mode": {
    "name": "ipython",
    "version": 3
   },
   "file_extension": ".py",
   "mimetype": "text/x-python",
   "name": "python",
   "nbconvert_exporter": "python",
   "pygments_lexer": "ipython3",
   "version": "3.10.9"
  }
 },
 "nbformat": 4,
 "nbformat_minor": 5
}
